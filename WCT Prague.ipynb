{
  "nbformat": 4,
  "nbformat_minor": 0,
  "metadata": {
    "colab": {
      "provenance": [],
      "authorship_tag": "ABX9TyPf143fo6H8PV2TDO8lgCgJ",
      "include_colab_link": true
    },
    "kernelspec": {
      "name": "python3",
      "display_name": "Python 3"
    },
    "language_info": {
      "name": "python"
    }
  },
  "cells": [
    {
      "cell_type": "markdown",
      "metadata": {
        "id": "view-in-github",
        "colab_type": "text"
      },
      "source": [
        "<a href=\"https://colab.research.google.com/github/birkofcz/_curling/blob/main/WCT%20Prague.ipynb\" target=\"_parent\"><img src=\"https://colab.research.google.com/assets/colab-badge.svg\" alt=\"Open In Colab\"/></a>"
      ]
    },
    {
      "cell_type": "markdown",
      "source": [
        "##Curling - analýza\n"
      ],
      "metadata": {
        "id": "OHmkxW3Bc2U0"
      }
    },
    {
      "cell_type": "markdown",
      "source": [
        "##Engine\n"
      ],
      "metadata": {
        "id": "qUOjvqEtdFGs"
      }
    },
    {
      "cell_type": "code",
      "source": [
        "# install SQL\n",
        "!pip install pymysql"
      ],
      "metadata": {
        "colab": {
          "base_uri": "https://localhost:8080/"
        },
        "id": "srRr1CI_dK_e",
        "outputId": "755ed11e-c1d2-473e-d4ae-d7da8f8758a7"
      },
      "execution_count": 1,
      "outputs": [
        {
          "output_type": "stream",
          "name": "stdout",
          "text": [
            "Looking in indexes: https://pypi.org/simple, https://us-python.pkg.dev/colab-wheels/public/simple/\n",
            "Collecting pymysql\n",
            "  Downloading PyMySQL-1.0.2-py3-none-any.whl (43 kB)\n",
            "\u001b[K     |████████████████████████████████| 43 kB 1.2 MB/s \n",
            "\u001b[?25hInstalling collected packages: pymysql\n",
            "Successfully installed pymysql-1.0.2\n"
          ]
        }
      ]
    },
    {
      "cell_type": "code",
      "source": [
        "import numpy as np\n",
        "import pandas as pd\n",
        "import sqlalchemy\n",
        "import matplotlib.pyplot as plt\n",
        "import plotly.express as px"
      ],
      "metadata": {
        "id": "XOkbfRFgdVWz"
      },
      "execution_count": 2,
      "outputs": []
    },
    {
      "cell_type": "markdown",
      "source": [
        "## Test importu"
      ],
      "metadata": {
        "id": "luI4ZHS6dcdc"
      }
    },
    {
      "cell_type": "code",
      "source": [],
      "metadata": {
        "id": "_WK_t3IQdlf1"
      },
      "execution_count": null,
      "outputs": []
    }
  ]
}